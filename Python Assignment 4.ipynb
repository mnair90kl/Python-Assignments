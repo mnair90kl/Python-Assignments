{
 "cells": [
  {
   "cell_type": "markdown",
   "metadata": {},
   "source": [
    "### Question 1.1"
   ]
  },
  {
   "cell_type": "code",
   "execution_count": 8,
   "metadata": {},
   "outputs": [],
   "source": [
    "class PTriangle:\n",
    "    def __init__(self):\n",
    "        self.a=int(input(\"Enter the first side of the triangle : \"))\n",
    "        self.b=int(input(\"Enter the second side of the triangle : \"))\n",
    "        self.c=int(input(\"Enter the third side of the triangle : \"))\n",
    "class CTriangle(PTriangle):\n",
    "    def __init__(self):\n",
    "        super().__init__()\n",
    "    def area(self):\n",
    "        s = (self.a+self.b+self.c)/2\n",
    "        d = s*(s-self.a)*(s-self.b)*(s-self.c)\n",
    "        self.area = pow(d,0.5)\n",
    "        print(\"Area of the triangle is : \",self.area)"
   ]
  },
  {
   "cell_type": "code",
   "execution_count": 9,
   "metadata": {},
   "outputs": [
    {
     "name": "stdout",
     "output_type": "stream",
     "text": [
      "Enter the first side of the triangle : 5\n",
      "Enter the second side of the triangle : 4\n",
      "Enter the third side of the triangle : 3\n",
      "Area of the triangle is :  6.0\n"
     ]
    }
   ],
   "source": [
    "tri=CTriangle()\n",
    "tri.area()"
   ]
  },
  {
   "cell_type": "markdown",
   "metadata": {},
   "source": [
    "### Question  1.2"
   ]
  },
  {
   "cell_type": "code",
   "execution_count": 10,
   "metadata": {},
   "outputs": [],
   "source": [
    "def filter_long_words(wrds,n):\n",
    "    long_words=[]\n",
    "    for w in wrds:\n",
    "        if len(w) > n:\n",
    "            long_words.append(w)\n",
    "    print (long_words)"
   ]
  },
  {
   "cell_type": "code",
   "execution_count": 11,
   "metadata": {},
   "outputs": [
    {
     "name": "stdout",
     "output_type": "stream",
     "text": [
      "['abcdef', 'abcd', 'abcdefgh']\n"
     ]
    }
   ],
   "source": [
    "words=['abc','abcdef','ab','a','abcd','abcdefgh','ab']\n",
    "n=3\n",
    "filter_long_words(words,n)"
   ]
  },
  {
   "cell_type": "markdown",
   "metadata": {},
   "source": [
    "### Question 2.1"
   ]
  },
  {
   "cell_type": "code",
   "execution_count": 12,
   "metadata": {},
   "outputs": [],
   "source": [
    "def wrd_len(wrds):\n",
    "    len_lst=[]\n",
    "    for x in wrds:\n",
    "        len_lst.append(len(x))\n",
    "    print(len_lst)"
   ]
  },
  {
   "cell_type": "code",
   "execution_count": 13,
   "metadata": {},
   "outputs": [
    {
     "name": "stdout",
     "output_type": "stream",
     "text": [
      "[2, 3, 4]\n"
     ]
    }
   ],
   "source": [
    "wrd_len(['ab','cde','erty'])"
   ]
  },
  {
   "cell_type": "markdown",
   "metadata": {},
   "source": [
    "### Question 2.2 "
   ]
  },
  {
   "cell_type": "code",
   "execution_count": 14,
   "metadata": {},
   "outputs": [],
   "source": [
    "def vowel_chk(chr):\n",
    "    if type(chr) == str and len(chr) == 1:\n",
    "        if chr.lower() in ['a','e','i','o','u']:\n",
    "            return True\n",
    "        else:\n",
    "            return False\n",
    "    else:\n",
    "        print(\"Not a string/Length greater than 1\")"
   ]
  },
  {
   "cell_type": "code",
   "execution_count": 18,
   "metadata": {},
   "outputs": [
    {
     "data": {
      "text/plain": [
       "True"
      ]
     },
     "execution_count": 18,
     "metadata": {},
     "output_type": "execute_result"
    }
   ],
   "source": [
    "vowel_chk('U')"
   ]
  },
  {
   "cell_type": "code",
   "execution_count": null,
   "metadata": {},
   "outputs": [],
   "source": []
  }
 ],
 "metadata": {
  "kernelspec": {
   "display_name": "Python 3",
   "language": "python",
   "name": "python3"
  },
  "language_info": {
   "codemirror_mode": {
    "name": "ipython",
    "version": 3
   },
   "file_extension": ".py",
   "mimetype": "text/x-python",
   "name": "python",
   "nbconvert_exporter": "python",
   "pygments_lexer": "ipython3",
   "version": "3.7.2"
  }
 },
 "nbformat": 4,
 "nbformat_minor": 4
}
